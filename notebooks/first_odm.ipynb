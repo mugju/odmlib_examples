{
 "cells": [
  {
   "cell_type": "markdown",
   "metadata": {
    "collapsed": true,
    "pycharm": {
     "name": "#%% md\n"
    }
   },
   "source": [
    "## Create a simple ODM file\n",
    "First make sure you've installed odmlib using pip:\n",
    "```\n",
    "pip install odmlib\n",
    "```\n",
    "Next import the ODM v1.3.2 model. We'll also use the datetime module in this example as well."
   ]
  },
  {
   "cell_type": "code",
   "execution_count": 10,
   "metadata": {
    "pycharm": {
     "is_executing": true,
     "name": "#%%\n"
    }
   },
   "outputs": [],
   "source": [
    "import odmlib.odm_1_3_2.model as ODM\n",
    "import datetime"
   ]
  },
  {
   "cell_type": "markdown",
   "metadata": {},
   "source": [
    "Now we're ready to start creating ODM objects. First, we'll create the ODM object.\n"
   ]
  },
  {
   "cell_type": "code",
   "execution_count": 11,
   "metadata": {
    "pycharm": {
     "name": "#%%\n"
    }
   },
   "outputs": [],
   "source": [
    "current_datetime = datetime.datetime.utcnow().replace(tzinfo=datetime.timezone.utc).isoformat()\n",
    "odm = ODM.ODM(FileOID=\"ODM.COSA.DEMO\",\n",
    "              Granularity=\"Metadata\",\n",
    "              AsOfDateTime=current_datetime,\n",
    "              CreationDateTime=current_datetime,\n",
    "              ODMVersion=\"1.3.2\",\n",
    "              FileType=\"Snapshot\",\n",
    "              Originator=\"Sam Hume\",\n",
    "              SourceSystem=\"odmlib\",\n",
    "              SourceSystemVersion=\"0.1.3\")"
   ]
  },
  {
   "cell_type": "markdown",
   "metadata": {},
   "source": [
    "Now we've created the ODM object. Next we'll create a Study object. There can be multiple studies so Study is a list of\n",
    "objects."
   ]
  },
  {
   "cell_type": "code",
   "execution_count": 12,
   "metadata": {
    "pycharm": {
     "name": "#%%\n"
    }
   },
   "outputs": [],
   "source": [
    "odm.Study.append(ODM.Study(OID=\"ODM.COSA.STUDY\"))"
   ]
  },
  {
   "cell_type": "markdown",
   "metadata": {},
   "source": [
    "We created the Study object and appended it to ODM Study. Next we'll add the global variables to Study. Since there's\n",
    "only one GlobalVariables object we just use an assignment rather than append. We'll also add the individual global\n",
    "variable objects. In the ODM specification, the global variables, like StudyName, have values in the body\n",
    "of the element. In odmlib, you assign values to the body of the element using _content as shown below."
   ]
  },
  {
   "cell_type": "code",
   "execution_count": 13,
   "metadata": {
    "pycharm": {
     "name": "#%%\n"
    }
   },
   "outputs": [],
   "source": [
    "odm.Study[0].GlobalVariables = ODM.GlobalVariables()\n",
    "odm.Study[0].GlobalVariables.StudyName = ODM.StudyName(_content=\"COSA Demo Study\")\n",
    "odm.Study[0].GlobalVariables.StudyDescription = ODM.StudyDescription(_content=\"Demo to get started with odmlib\")\n",
    "odm.Study[0].GlobalVariables.ProtocolName = ODM.ProtocolName(_content=\"COSA odmlib Demonstration\")"
   ]
  },
  {
   "cell_type": "markdown",
   "metadata": {},
   "source": [
    "To keep this first demo as simple as possible, we'll now generate the XML for this simple ODM document."
   ]
  },
  {
   "cell_type": "code",
   "execution_count": 14,
   "metadata": {
    "pycharm": {
     "name": "#%%\n"
    }
   },
   "outputs": [],
   "source": [
    "odm.write_xml(odm_file=\"./data/cosa_demo.xml\")"
   ]
  },
  {
   "cell_type": "markdown",
   "metadata": {},
   "source": [
    "Next, we'll take a look at the ODM text."
   ]
  },
  {
   "cell_type": "code",
   "execution_count": 15,
   "metadata": {
    "pycharm": {
     "name": "#%%\n"
    }
   },
   "outputs": [
    {
     "name": "stdout",
     "output_type": "stream",
     "text": [
      "<?xml version='1.0' encoding='utf-8'?>\n",
      "<ODM FileOID=\"ODM.COSA.DEMO\" Granularity=\"Metadata\" AsOfDateTime=\"2021-11-10T20:09:18.966557+00:00\" CreationDateTime=\"2021-11-10T20:09:18.966557+00:00\" ODMVersion=\"1.3.2\" FileType=\"Snapshot\" Originator=\"Sam Hume\" SourceSystem=\"odmlib\" SourceSystemVersion=\"0.1.3\" xmlns=\"http://www.cdisc.org/ns/odm/v1.3\" xmlns:xs=\"http://www.w3.org/2001/XMLSchema-instance\" xmlns:xml=\"http://www.w3.org/XML/1998/namespace\" xmlns:xlink=\"http://www.w3.org/1999/xlink\"><Study OID=\"ODM.COSA.STUDY\"><GlobalVariables><StudyName>COSA Demo Study</StudyName><StudyDescription>Demo to get started with odmlib</StudyDescription><ProtocolName>COSA odmlib Demonstration</ProtocolName></GlobalVariables></Study></ODM>\n"
     ]
    }
   ],
   "source": [
    "with open(\"./data/cosa_demo.xml\", 'r') as file:\n",
    "    cosa_odm = file.read()\n",
    "print(cosa_odm)"
   ]
  },
  {
   "cell_type": "markdown",
   "metadata": {},
   "source": [
    "Now that we've created a simple ODM file, we'll look at how to load the file into odmlib. First, we need to import the\n",
    "ODM loader. Then we'll load the ODM file we just created."
   ]
  },
  {
   "cell_type": "code",
   "execution_count": 16,
   "metadata": {
    "pycharm": {
     "name": "#%%\n"
    }
   },
   "outputs": [
    {
     "data": {
      "text/plain": [
       "<Element '{http://www.cdisc.org/ns/odm/v1.3}ODM' at 0x000002AE3A2A07C0>"
      ]
     },
     "execution_count": 16,
     "metadata": {},
     "output_type": "execute_result"
    }
   ],
   "source": [
    "from odmlib import odm_loader as OL, loader as LO\n",
    "loader = LO.ODMLoader(OL.XMLODMLoader())\n",
    "loader.open_odm_document(\"./data/cosa_demo.xml\")"
   ]
  },
  {
   "cell_type": "markdown",
   "metadata": {},
   "source": [
    "Now that the ODM file is loaded into odmlib we can print out some of the contents."
   ]
  },
  {
   "cell_type": "code",
   "execution_count": 18,
   "metadata": {
    "pycharm": {
     "name": "#%%\n"
    }
   },
   "outputs": [
    {
     "name": "stdout",
     "output_type": "stream",
     "text": [
      "Study OID is ODM.COSA.STUDY\n",
      "Study Name is COSA Demo Study\n",
      "Study Description is Demo to get started with odmlib\n",
      "Protocol Name is COSA odmlib Demonstration\n"
     ]
    }
   ],
   "source": [
    "odm = loader.load_odm()\n",
    "print(f\"Study OID is {odm.Study[0].OID}\")\n",
    "print(f\"Study Name is {odm.Study[0].GlobalVariables.StudyName}\")\n",
    "print(f\"Study Description is {odm.Study[0].GlobalVariables.StudyDescription}\")\n",
    "print(f\"Protocol Name is {odm.Study[0].GlobalVariables.ProtocolName}\")"
   ]
  },
  {
   "cell_type": "markdown",
   "metadata": {},
   "source": [
    "You could also generate a Python Dictionary or JSON instead of creating an XML ODM document."
   ]
  },
  {
   "cell_type": "code",
   "execution_count": 19,
   "metadata": {
    "pycharm": {
     "name": "#%%\n"
    }
   },
   "outputs": [
    {
     "name": "stdout",
     "output_type": "stream",
     "text": [
      "{'FileOID': 'ODM.COSA.DEMO', 'Granularity': 'Metadata', 'AsOfDateTime': '2021-11-10T20:09:18.966557+00:00', 'CreationDateTime': '2021-11-10T20:09:18.966557+00:00', 'ODMVersion': '1.3.2', 'FileType': 'Snapshot', 'Originator': 'Sam Hume', 'SourceSystem': 'odmlib', 'SourceSystemVersion': '0.1.3', 'Study': [{'OID': 'ODM.COSA.STUDY', 'GlobalVariables': {'StudyName': {'_content': 'COSA Demo Study'}, 'StudyDescription': {'_content': 'Demo to get started with odmlib'}, 'ProtocolName': {'_content': 'COSA odmlib Demonstration'}}}]}\n"
     ]
    }
   ],
   "source": [
    "cosa_dict = odm.to_dict()\n",
    "print(cosa_dict)"
   ]
  },
  {
   "cell_type": "markdown",
   "metadata": {
    "pycharm": {
     "name": "#%% md\n"
    }
   },
   "source": [
    "That concludes this first look at how to use odmlib to create or process existing ODM documents. To create a complete\n",
    "ODM document, keep creating and adding new objects. It works the same for\n",
    "Define-XML, but uses a different model.\n",
    "\n",
    "You can also validate the ODM or Define-XML files and do additional quality checking, but we'll save that for another\n",
    "demo.\n",
    "\n",
    "\n"
   ]
  }
 ],
 "metadata": {
  "kernelspec": {
   "display_name": "Python 3 (ipykernel)",
   "language": "python",
   "name": "python3"
  },
  "language_info": {
   "codemirror_mode": {
    "name": "ipython",
    "version": 3
   },
   "file_extension": ".py",
   "mimetype": "text/x-python",
   "name": "python",
   "nbconvert_exporter": "python",
   "pygments_lexer": "ipython3",
   "version": "3.9.5"
  }
 },
 "nbformat": 4,
 "nbformat_minor": 1
}
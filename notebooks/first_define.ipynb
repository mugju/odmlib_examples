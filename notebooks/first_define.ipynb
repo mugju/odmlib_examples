{
 "cells": [
  {
   "cell_type": "markdown",
   "metadata": {
    "collapsed": true,
    "pycharm": {
     "name": "#%% md\n"
    }
   },
   "source": [
    "## Create a simple Define-XML v2.1 file\n",
    "First make sure you've installed odmlib using pip:\n",
    "```\n",
    "pip install odmlib\n",
    "```\n",
    "Next import the Define-XML v2.1 model. We'll also use the datetime module in this example as well."
   ]
  },
  {
   "cell_type": "code",
   "execution_count": 17,
   "metadata": {
    "pycharm": {
     "name": "#%%\n"
    }
   },
   "outputs": [],
   "source": [
    "import odmlib.define_2_1.model as DEFINE\n",
    "import datetime"
   ]
  },
  {
   "cell_type": "markdown",
   "metadata": {
    "pycharm": {
     "name": "#%% md\n"
    }
   },
   "source": [
    "Next, we'll create the ODM object. There's no need to include namespaces in the ODM object since these are\n",
    "managed by odmlib."
   ]
  },
  {
   "cell_type": "code",
   "execution_count": 18,
   "metadata": {
    "pycharm": {
     "name": "#%%\n"
    }
   },
   "outputs": [],
   "source": [
    "current_datetime = datetime.datetime.utcnow().replace(tzinfo=datetime.timezone.utc).isoformat()\n",
    "odm = DEFINE.ODM(FileOID=\"DEF.COSA.DEMO\",\n",
    "              AsOfDateTime=current_datetime,\n",
    "              CreationDateTime=current_datetime,\n",
    "              ODMVersion=\"1.3.2\",\n",
    "              FileType=\"Snapshot\",\n",
    "              Originator=\"Sam Hume\",\n",
    "              SourceSystem=\"odmlib\",\n",
    "              SourceSystemVersion=\"0.1.4\",\n",
    "              Context=\"Other\")"
   ]
  },
  {
   "cell_type": "markdown",
   "metadata": {},
   "source": [
    "Now we've created the ODM object. Next we'll instantiate a Study object and assign it to odm.Study. In the ODM model Study is a list, but in Define-XML it is a singular object.\n",
    "\n",
    "Then we'll add the global variables to Study. Since there's only one GlobalVariables object we just use an assignment\n",
    "rather than append. We'll also add the individual global variable objects. In the ODM specification, the global\n",
    "variables, like StudyName, have values in the body of the element. In odmlib, you assign values to the body of the\n",
    "element using _content as shown below."
   ]
  },
  {
   "cell_type": "code",
   "execution_count": 19,
   "metadata": {
    "pycharm": {
     "name": "#%%\n"
    }
   },
   "outputs": [],
   "source": [
    "study = DEFINE.Study(OID=\"ST.DEFINE.COSA.001\")\n",
    "study.GlobalVariables.StudyName = DEFINE.StudyName(_content=\"TEST Define-XML ItemGroupDef\")\n",
    "study.GlobalVariables.StudyDescription = DEFINE.StudyDescription(_content=\"ItemGroupDef 001\")\n",
    "study.GlobalVariables.ProtocolName = DEFINE.ProtocolName(_content=\"Define-XML ItemGroupDef\")\n",
    "odm.Study = study"
   ]
  },
  {
   "cell_type": "markdown",
   "metadata": {},
   "source": [
    "We created the Study object and assigned it to ODM Study."
   ]
  },
  {
   "cell_type": "code",
   "execution_count": 20,
   "metadata": {
    "pycharm": {
     "name": "#%%\n"
    }
   },
   "outputs": [],
   "source": [
    "mdv = DEFINE.MetaDataVersion(OID=\"MDV.COSA.IGD.001\", Name=\"ItemGroupDefDemo001\",\n",
    "                                     Description=\"ItemGroupDef COSA Demo\", DefineVersion=\"2.1.0\")"
   ]
  },
  {
   "cell_type": "markdown",
   "metadata": {
    "pycharm": {
     "name": "#%% md\n"
    }
   },
   "source": [
    "Next creating Standards"
   ]
  },
  {
   "cell_type": "code",
   "execution_count": 21,
   "metadata": {
    "pycharm": {
     "name": "#%%\n"
    }
   },
   "outputs": [],
   "source": [
    "mdv.Standards.Standard.append(DEFINE.Standard(OID=\"STD.1\", Name=\"SDTMIG\", Type=\"IG\", Version=\"3.2\", Status=\"Final\"))\n",
    "mdv.Standards.Standard.append(DEFINE.Standard(OID=\"STD.2\", Name=\"CDISC/NCI\", Type=\"CT\", PublishingSet=\"SDTM\",\n",
    "                                              Version=\"2021-12-17\", Status=\"Final\"))"
   ]
  },
  {
   "cell_type": "markdown",
   "metadata": {
    "pycharm": {
     "name": "#%% md\n"
    }
   },
   "source": [
    "Now create an ItemGroupDef object and populate all the attributes."
   ]
  },
  {
   "cell_type": "code",
   "execution_count": 22,
   "metadata": {
    "pycharm": {
     "name": "#%%\n"
    }
   },
   "outputs": [],
   "source": [
    "igd = DEFINE.ItemGroupDef(OID=\"IG.VS\",\n",
    "                          Name=\"VS\",\n",
    "                          Repeating=\"Yes\",\n",
    "                          Domain=\"VS\",\n",
    "                          SASDatasetName=\"VS\",\n",
    "                          IsReferenceData=\"No\",\n",
    "                          Purpose=\"Tabulation\",\n",
    "                          ArchiveLocationID=\"LF.VS\",\n",
    "                          Structure=\"One record per vital sign measurement per visit per subject\",\n",
    "                          StandardOID=\"STD.1\",\n",
    "                          IsNonStandard=\"Yes\",\n",
    "                          HasNoData=\"Yes\")"
   ]
  },
  {
   "cell_type": "markdown",
   "metadata": {},
   "source": [
    "Using the igd ItemGroupDef object we can create and add the necessary child elements."
   ]
  },
  {
   "cell_type": "code",
   "execution_count": 23,
   "metadata": {
    "pycharm": {
     "name": "#%%\n"
    }
   },
   "outputs": [],
   "source": [
    "igd.Description.TranslatedText.append(DEFINE.TranslatedText(_content=\"Vital Signs\", lang=\"en\"))\n",
    "igd.ItemRef.append(DEFINE.ItemRef(ItemOID=\"IT.STUDYID\", Mandatory=\"Yes\", OrderNumber=1, KeySequence=1))\n",
    "igd.ItemRef.append(DEFINE.ItemRef(ItemOID=\"IT.VS.DOMIAN\", Mandatory=\"Yes\", OrderNumber=2))\n",
    "igd.ItemRef.append(DEFINE.ItemRef(ItemOID=\"IT.USUBJID\", Mandatory=\"Yes\", OrderNumber=3, KeySequence=2))\n",
    "igd.ItemRef.append(DEFINE.ItemRef(ItemOID=\"IT.VS.VSSEQ\", Mandatory=\"Yes\", OrderNumber=4))\n",
    "igd.ItemRef.append(DEFINE.ItemRef(ItemOID=\"IT.VS.VSTESTCD\", Mandatory=\"Yes\", OrderNumber=5, KeySequence=3))\n",
    "igd.ItemRef.append(DEFINE.ItemRef(ItemOID=\"IT.VS.VSTEST\", Mandatory=\"Yes\", OrderNumber=6))"
   ]
  },
  {
   "cell_type": "markdown",
   "metadata": {
    "pycharm": {
     "name": "#%% md\n"
    }
   },
   "source": [
    "Before we add the remaining objects, let's show what happens when we try to create an object using invalid inputs.\n",
    "If you attempt to create an invalid ItemRef odmlib will return an error. There are a number of ways that odmlib ensures\n",
    "quality or checks for quality, but most of them are beyond what we'll cover in this demo."
   ]
  },
  {
   "cell_type": "code",
   "execution_count": 24,
   "metadata": {
    "pycharm": {
     "name": "#%%\n"
    }
   },
   "outputs": [
    {
     "name": "stdout",
     "output_type": "stream",
     "text": [
      "Error creating ItemRef: Missing required keyword argument ItemOID in ItemRef\n"
     ]
    }
   ],
   "source": [
    "try:\n",
    "    ir = DEFINE.ItemRef(Mandatory=\"Yes\", OrderNumber=1)\n",
    "except ValueError as ve:\n",
    "    print(f\"Error creating ItemRef: {ve}\")\n"
   ]
  },
  {
   "cell_type": "markdown",
   "metadata": {
    "pycharm": {
     "name": "#%% md\n"
    }
   },
   "source": [
    "That's enough ItemRefs for now. Next let's add the new Class element."
   ]
  },
  {
   "cell_type": "code",
   "execution_count": 25,
   "metadata": {
    "pycharm": {
     "name": "#%%\n"
    }
   },
   "outputs": [],
   "source": [
    "igd.Class = DEFINE.Class(Name=\"FINDINGS\")"
   ]
  },
  {
   "cell_type": "markdown",
   "metadata": {},
   "source": [
    "Now that the ItemGroupDef has been defined, we need to add it to the MetaDataVersion object so that it will be included\n",
    "in the Define-XML document. Note that because ItemGroupDef is a list we append instantiated item groups."
   ]
  },
  {
   "cell_type": "code",
   "execution_count": 26,
   "metadata": {
    "pycharm": {
     "name": "#%%\n"
    }
   },
   "outputs": [],
   "source": [
    "odm.Study.MetaDataVersion = mdv\n",
    "odm.Study.MetaDataVersion.ItemGroupDef.append(igd)"
   ]
  },
  {
   "cell_type": "code",
   "execution_count": 27,
   "metadata": {
    "pycharm": {
     "name": "#%%\n"
    }
   },
   "outputs": [],
   "source": [
    "odm.write_xml(odm_file=\"./data/cosa_define_demo.xml\")"
   ]
  },
  {
   "cell_type": "markdown",
   "metadata": {},
   "source": [
    "Next, we'll take a look at the ODM text."
   ]
  },
  {
   "cell_type": "code",
   "execution_count": 28,
   "metadata": {
    "pycharm": {
     "name": "#%%\n"
    }
   },
   "outputs": [
    {
     "name": "stdout",
     "output_type": "stream",
     "text": [
      "<?xml version='1.0' encoding='utf-8'?>\n",
      "<ODM FileOID=\"DEF.COSA.DEMO\" AsOfDateTime=\"2022-03-14T13:23:47.644445+00:00\" CreationDateTime=\"2022-03-14T13:23:47.644445+00:00\" ODMVersion=\"1.3.2\" FileType=\"Snapshot\" Originator=\"Sam Hume\" SourceSystem=\"odmlib\" SourceSystemVersion=\"0.1.4\" def:Context=\"Other\" xmlns=\"http://www.cdisc.org/ns/odm/v1.3\" xmlns:xs=\"http://www.w3.org/2001/XMLSchema-instance\" xmlns:xml=\"http://www.w3.org/XML/1998/namespace\" xmlns:xlink=\"http://www.w3.org/1999/xlink\" xmlns:def=\"http://www.cdisc.org/ns/def/v2.1\"><Study OID=\"ST.DEFINE.COSA.001\"><GlobalVariables><StudyName>TEST Define-XML ItemGroupDef</StudyName><StudyDescription>ItemGroupDef 001</StudyDescription><ProtocolName>Define-XML ItemGroupDef</ProtocolName></GlobalVariables><MetaDataVersion OID=\"MDV.COSA.IGD.001\" Name=\"ItemGroupDefDemo001\" Description=\"ItemGroupDef COSA Demo\" def:DefineVersion=\"2.1.0\"><def:Standards><def:Standard OID=\"STD.1\" Name=\"SDTMIG\" Type=\"IG\" Version=\"3.2\" Status=\"Final\" /><def:Standard OID=\"STD.2\" Name=\"CDISC/NCI\" Type=\"CT\" PublishingSet=\"SDTM\" Version=\"2021-12-17\" Status=\"Final\" /></def:Standards><ItemGroupDef OID=\"IG.VS\" Name=\"VS\" Repeating=\"Yes\" Domain=\"VS\" SASDatasetName=\"VS\" IsReferenceData=\"No\" Purpose=\"Tabulation\" def:ArchiveLocationID=\"LF.VS\" def:Structure=\"One record per vital sign measurement per visit per subject\" def:StandardOID=\"STD.1\" def:IsNonStandard=\"Yes\" def:HasNoData=\"Yes\"><Description><TranslatedText xml:lang=\"en\">Vital Signs</TranslatedText></Description><ItemRef ItemOID=\"IT.STUDYID\" Mandatory=\"Yes\" OrderNumber=\"1\" KeySequence=\"1\" /><ItemRef ItemOID=\"IT.VS.DOMIAN\" Mandatory=\"Yes\" OrderNumber=\"2\" /><ItemRef ItemOID=\"IT.USUBJID\" Mandatory=\"Yes\" OrderNumber=\"3\" KeySequence=\"2\" /><ItemRef ItemOID=\"IT.VS.VSSEQ\" Mandatory=\"Yes\" OrderNumber=\"4\" /><ItemRef ItemOID=\"IT.VS.VSTESTCD\" Mandatory=\"Yes\" OrderNumber=\"5\" KeySequence=\"3\" /><ItemRef ItemOID=\"IT.VS.VSTEST\" Mandatory=\"Yes\" OrderNumber=\"6\" /><def:Class Name=\"FINDINGS\" /></ItemGroupDef></MetaDataVersion></Study></ODM>\n"
     ]
    }
   ],
   "source": [
    "with open(\"./data/cosa_define_demo.xml\", 'r') as file:\n",
    "    cosa_odm = file.read()\n",
    "print(cosa_odm)"
   ]
  },
  {
   "cell_type": "markdown",
   "metadata": {},
   "source": [
    "Now try to validate the Define-XML file using the Define-XML v2.1 XML schemas."
   ]
  },
  {
   "cell_type": "code",
   "execution_count": 29,
   "metadata": {
    "pycharm": {
     "name": "#%%\n"
    }
   },
   "outputs": [
    {
     "name": "stdout",
     "output_type": "stream",
     "text": [
      "define-XML schema validation completed successfully...\n"
     ]
    }
   ],
   "source": [
    "from odmlib import odm_parser as P\n",
    "# schema_file = \"C:\\\\Users\\\\SamHume\\\\schema\\\\cdisc-define-2.1\\\\define2-1-0.xsd\"\n",
    "schema_file = \"/home/sam/standards/DefineV211/schema/cdisc-define-2.1/define2-1-0.xsd\"\n",
    "\n",
    "validator = P.ODMSchemaValidator(schema_file)\n",
    "try:\n",
    "    validator.validate_file(\"./data/cosa_define_demo.xml\")\n",
    "    print(\"define-XML schema validation completed successfully...\")\n",
    "except P.OdmlibSchemaValidationError as ve:\n",
    "    print(f\"schema validation errors: {ve}\")"
   ]
  },
  {
   "cell_type": "markdown",
   "metadata": {},
   "source": [
    "Now that we've created a simple Define-XML file, we'll look at how to load the file into odmlib. First, we need to\n",
    "import the Define-XML loader. Then we'll load the Define-XML file we just created."
   ]
  },
  {
   "cell_type": "code",
   "execution_count": 14,
   "metadata": {
    "pycharm": {
     "name": "#%%\n"
    }
   },
   "outputs": [
    {
     "data": {
      "text/plain": [
       "<Element '{http://www.cdisc.org/ns/odm/v1.3}ODM' at 0x7fccc0132590>"
      ]
     },
     "execution_count": 14,
     "metadata": {},
     "output_type": "execute_result"
    }
   ],
   "source": [
    "from odmlib import define_loader as DL, loader as LD\n",
    "loader = LD.ODMLoader(DL.XMLDefineLoader(model_package=\"define_2_1\", ns_uri=\"http://www.cdisc.org/ns/def/v2.1\"))\n",
    "loader.open_odm_document(\"./data/cosa_define_demo.xml\")"
   ]
  },
  {
   "cell_type": "markdown",
   "metadata": {},
   "source": [
    "Now that the Define-XML file is loaded into odmlib we can print out some of the content."
   ]
  },
  {
   "cell_type": "code",
   "execution_count": 15,
   "metadata": {
    "pycharm": {
     "name": "#%%\n"
    }
   },
   "outputs": [
    {
     "name": "stdout",
     "output_type": "stream",
     "text": [
      "Study OID is ST.DEFINE.COSA.001\n",
      "Study Name is TEST Define-XML ItemGroupDef\n",
      "Study Description is ItemGroupDef 001\n",
      "Protocol Name is Define-XML ItemGroupDef\n"
     ]
    }
   ],
   "source": [
    "odm = loader.load_odm()\n",
    "print(f\"Study OID is {odm.Study.OID}\")\n",
    "print(f\"Study Name is {odm.Study.GlobalVariables.StudyName}\")\n",
    "print(f\"Study Description is {odm.Study.GlobalVariables.StudyDescription}\")\n",
    "print(f\"Protocol Name is {odm.Study.GlobalVariables.ProtocolName}\")"
   ]
  },
  {
   "cell_type": "markdown",
   "metadata": {},
   "source": [
    "You could also generate a Python Dictionary or JSON instead of creating an XML ODM document."
   ]
  },
  {
   "cell_type": "code",
   "execution_count": 16,
   "metadata": {
    "pycharm": {
     "name": "#%%\n"
    }
   },
   "outputs": [
    {
     "name": "stdout",
     "output_type": "stream",
     "text": [
      "{'FileOID': 'DEF.COSA.DEMO', 'AsOfDateTime': '2022-03-14T13:23:37.912770+00:00', 'CreationDateTime': '2022-03-14T13:23:37.912770+00:00', 'ODMVersion': '1.3.2', 'FileType': 'Snapshot', 'Originator': 'Sam Hume', 'SourceSystem': 'odmlib', 'SourceSystemVersion': '0.1.4', 'Context': 'Other', 'Study': {'OID': 'ST.DEFINE.COSA.001', 'GlobalVariables': {'StudyName': {'_content': 'TEST Define-XML ItemGroupDef'}, 'StudyDescription': {'_content': 'ItemGroupDef 001'}, 'ProtocolName': {'_content': 'Define-XML ItemGroupDef'}}, 'MetaDataVersion': {'OID': 'MDV.COSA.IGD.001', 'Name': 'ItemGroupDefDemo001', 'Description': 'ItemGroupDef COSA Demo', 'DefineVersion': '2.1.0', 'Standards': {'Standard': [{'OID': 'STD.1', 'Name': 'SDTMIG', 'Type': 'IG', 'Version': '3.2', 'Status': 'Final'}, {'OID': 'STD.2', 'Name': 'CDISC/NCI', 'Type': 'CT', 'PublishingSet': 'SDTM', 'Version': '2021-12-17', 'Status': 'Final'}]}, 'ItemGroupDef': [{'OID': 'IG.VS', 'Name': 'VS', 'Repeating': 'Yes', 'Domain': 'VS', 'SASDatasetName': 'VS', 'IsReferenceData': 'No', 'Purpose': 'Tabulation', 'ArchiveLocationID': 'LF.VS', 'Structure': 'One record per vital sign measurement per visit per subject', 'StandardOID': 'STD.1', 'IsNonStandard': 'Yes', 'HasNoData': 'Yes', 'Description': {'TranslatedText': [{'lang': 'en', '_content': 'Vital Signs'}]}, 'ItemRef': [{'ItemOID': 'IT.STUDYID', 'Mandatory': 'Yes', 'OrderNumber': 1, 'KeySequence': 1}, {'ItemOID': 'IT.VS.DOMIAN', 'Mandatory': 'Yes', 'OrderNumber': 2}, {'ItemOID': 'IT.USUBJID', 'Mandatory': 'Yes', 'OrderNumber': 3, 'KeySequence': 2}, {'ItemOID': 'IT.VS.VSSEQ', 'Mandatory': 'Yes', 'OrderNumber': 4}, {'ItemOID': 'IT.VS.VSTESTCD', 'Mandatory': 'Yes', 'OrderNumber': 5, 'KeySequence': 3}, {'ItemOID': 'IT.VS.VSTEST', 'Mandatory': 'Yes', 'OrderNumber': 6}], 'Class': {'Name': 'FINDINGS'}}]}}}\n"
     ]
    }
   ],
   "source": [
    "cosa_dict = odm.to_dict()\n",
    "print(cosa_dict)"
   ]
  },
  {
   "cell_type": "markdown",
   "metadata": {
    "pycharm": {
     "name": "#%% md\n"
    }
   },
   "source": [
    "Although it's an incomplete Define-XML, there's enough content to validate successfully. That concludes this simple\n",
    "Define-XML v2.1 odmlib demo.\n"
   ]
  }
 ],
 "metadata": {
  "kernelspec": {
   "display_name": "Python 3 (ipykernel)",
   "language": "python",
   "name": "python3"
  },
  "language_info": {
   "codemirror_mode": {
    "name": "ipython",
    "version": 3
   },
   "file_extension": ".py",
   "mimetype": "text/x-python",
   "name": "python",
   "nbconvert_exporter": "python",
   "pygments_lexer": "ipython3",
   "version": "3.8.10"
  }
 },
 "nbformat": 4,
 "nbformat_minor": 1
}
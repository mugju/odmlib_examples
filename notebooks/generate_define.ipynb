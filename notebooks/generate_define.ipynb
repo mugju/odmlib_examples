{
 "cells": [
  {
   "cell_type": "markdown",
   "metadata": {
    "pycharm": {
     "name": "#%% md\n"
    }
   },
   "source": [
    "## Generating a Define-XML v2.1 File\n",
    "\n",
    "This notebook demonstrates how to run the odmlib example program xlsx2define2-1.py. This example program takes a\n",
    "spreadsheet containing Define-XML v2.1 metadata and generates a Define-XML file. The program runs on the command-line\n",
    "and provides a number of options.\n",
    "\n",
    "A number of odmlib example programs, including xlsx2define2-1.py, are located in GitHub at\n",
    "https://github.com/swhume/odmlib_examples\n",
    "\n",
    "The example programs are open-source using the MIT license.\n",
    "\n",
    "### Install odmlib and other libraries\n",
    "Before you can run the odmlib examples, if you haven't already installed odmlib you'll need to do that.\n",
    "```\n",
    "pip install odmlib\n",
    "```\n",
    "The xlsx2define2-1.py application also requires xmlschema and openpyxl to be installed using pip in the same\n",
    "way that odmlib was installed above.\n",
    "\n",
    "### Use the example metadata spreadsheet\n",
    "\n",
    "The first time you run this use the provided example metadata spreadsheet to test it. The\n",
    "odmlib-define-metadata.xlsx spreadsheet contains the metadata to generate a Define-XML v2.1 file.\n",
    "\n",
    "### Run the program to generate the Define-XML file\n",
    "\n",
    "This example program runs on using a command-line interface. We'll use the following options when running\n",
    "the application:\n",
    "* -e provides the name and location of the spreadsheet file to use as an input.\n",
    "* -d provides the name and location of the Define-XML file to generate as output.\n",
    "\n",
    "Now, let's run the program.\n",
    "\n",
    "```\n",
    "python xlsx2define2-1.py -e ./data/odmlib-define-metadata.xlsx -d ./data/odmlib-define.xml\n",
    "```"
   ]
  }
 ],
 "metadata": {
  "kernelspec": {
   "display_name": "Python 3 (ipykernel)",
   "language": "python",
   "name": "python3"
  },
  "language_info": {
   "codemirror_mode": {
    "name": "ipython",
    "version": 3
   },
   "file_extension": ".py",
   "mimetype": "text/x-python",
   "name": "python",
   "nbconvert_exporter": "python",
   "pygments_lexer": "ipython3",
   "version": "3.9.5"
  }
 },
 "nbformat": 4,
 "nbformat_minor": 1
}